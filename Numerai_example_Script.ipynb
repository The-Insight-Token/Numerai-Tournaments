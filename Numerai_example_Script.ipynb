{
 "cells": [
  {
   "cell_type": "code",
   "execution_count": 1,
   "metadata": {},
   "outputs": [
    {
     "name": "stdout",
     "output_type": "stream",
     "text": [
      "Collecting xgboost\n",
      "  Downloading https://files.pythonhosted.org/packages/3d/1b/83e5dc0021d12884e9998999945e156cf3628a79dacecaed2ede9f3107cb/xgboost-1.3.3-py3-none-win_amd64.whl (95.2MB)\n",
      "Requirement already satisfied: numpy in c:\\users\\utilizador\\appdata\\local\\programs\\python\\python38\\lib\\site-packages (from xgboost) (1.19.5)\n",
      "Requirement already satisfied: scipy in c:\\users\\utilizador\\appdata\\local\\programs\\python\\python38\\lib\\site-packages (from xgboost) (1.6.0)\n",
      "Installing collected packages: xgboost\n",
      "Successfully installed xgboost-1.3.3\n"
     ]
    },
    {
     "name": "stderr",
     "output_type": "stream",
     "text": [
      "WARNING: You are using pip version 19.2.3, however version 21.0 is available.\n",
      "You should consider upgrading via the 'python -m pip install --upgrade pip' command.\n"
     ]
    }
   ],
   "source": [
    "#!/usr/bin/env python\n",
    "\"\"\" Example classifier on Numerai data using a xgboost regression. \"\"\"\n",
    "!pip install xgboost"
   ]
  },
  {
   "cell_type": "code",
   "execution_count": null,
   "metadata": {
    "collapsed": true
   },
   "outputs": [],
   "source": [
    "import pandas as pd\n",
    "import xgboost as xgb\n",
    "from xgboost import XGBRegressor\n",
    "\n",
    "# training data contains features and targets\n",
    "training_data = pd.read_csv(\"numerai_training_data.csv\").set_index(\"id\")\n",
    "\n",
    "# tournament data contains features only\n",
    "tournament_data = pd.read_csv(\"numerai_tournament_data.csv\").set_index(\"id\")\n",
    "feature_names = [f for f in training_data.columns if \"feature\" in f]\n",
    "\n",
    "# train a model to make predictions on tournament data\n",
    "model = XGBRegressor(max_depth=5, learning_rate=0.01, \\\n",
    "                     n_estimators=2000, colsample_bytree=0.1)\n",
    "model.fit(training_data[feature_names], training_data[\"target\"])\n",
    "\n",
    "# submit predictions to numer.ai\n",
    "predictions = model.predict(tournament_data[feature_names])\n",
    "predictions.to_csv(\"predictions.csv\")"
   ]
  }
 ],
 "metadata": {
  "kernelspec": {
   "display_name": "Python 3",
   "language": "python",
   "name": "python3"
  },
  "language_info": {
   "codemirror_mode": {
    "name": "ipython",
    "version": 3
   },
   "file_extension": ".py",
   "mimetype": "text/x-python",
   "name": "python",
   "nbconvert_exporter": "python",
   "pygments_lexer": "ipython3",
   "version": "3.6.3"
  }
 },
 "nbformat": 4,
 "nbformat_minor": 2
}
