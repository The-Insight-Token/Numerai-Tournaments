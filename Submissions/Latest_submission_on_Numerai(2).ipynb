{
 "cells": [
  {
   "cell_type": "markdown",
   "metadata": {
    "id": "RUD4ylfaLZA6"
   },
   "source": [
    "# Making your first submission on Numerai\n",
    "\n",
    "## Introduction \n",
    "This tutorial will go over how to create your first submission on Numerai.\n",
    "\n",
    "## Overview\n",
    "\n",
    "1. Using this notebook\n",
    "2. Download the datasets\n",
    "3. Train your first model\n",
    "4. Generate your first predictions\n",
    "4. Make your first submission\n",
    "\n",
    "\n",
    "---\n"
   ]
  },
  {
   "cell_type": "markdown",
   "metadata": {
    "id": "dioJyoTnxEm3"
   },
   "source": [
    "\n",
    "## 1. Using this notebook \n",
    "\n",
    "This is an interactive notebook. You can execute code in each cell by pressing `shift+enter`. This requires you to login with your Google account.\n",
    "\n",
    "In order to make changes, you need to make a copy by `File -> Save a copy in Drive`.\n",
    "\n",
    "Let's start off by installing and importing our dependencies."
   ]
  },
  {
   "cell_type": "code",
   "execution_count": 1,
   "metadata": {
    "id": "zDKQ_zqwTBf6",
    "scrolled": true
   },
   "outputs": [
    {
     "name": "stdout",
     "output_type": "stream",
     "text": [
      "Collecting scikit-learn\n",
      "  Using cached https://files.pythonhosted.org/packages/7b/57/502e640e110e5ca5765036f832f88ed9ce529aa3e6854daa394389353b96/scikit_learn-0.24.1-cp38-cp38-win_amd64.whl\n",
      "Collecting threadpoolctl>=2.0.0 (from scikit-learn)\n",
      "  Using cached https://files.pythonhosted.org/packages/f7/12/ec3f2e203afa394a149911729357aa48affc59c20e2c1c8297a60f33f133/threadpoolctl-2.1.0-py3-none-any.whl\n",
      "Requirement already satisfied, skipping upgrade: scipy>=0.19.1 in c:\\users\\utilizador\\appdata\\local\\programs\\python\\python38\\lib\\site-packages (from scikit-learn) (1.6.0)\n",
      "Collecting joblib>=0.11 (from scikit-learn)\n",
      "  Downloading https://files.pythonhosted.org/packages/55/85/70c6602b078bd9e6f3da4f467047e906525c355a4dacd4f71b97a35d9897/joblib-1.0.1-py3-none-any.whl (303kB)\n",
      "Requirement already satisfied, skipping upgrade: numpy>=1.13.3 in c:\\users\\utilizador\\appdata\\local\\programs\\python\\python38\\lib\\site-packages (from scikit-learn) (1.19.5)\n",
      "Installing collected packages: threadpoolctl, joblib, scikit-learn\n",
      "Successfully installed joblib-1.0.1 scikit-learn-0.24.1 threadpoolctl-2.1.0\n"
     ]
    },
    {
     "name": "stderr",
     "output_type": "stream",
     "text": [
      "WARNING: You are using pip version 19.2.3, however version 21.0.1 is available.\n",
      "You should consider upgrading via the 'python -m pip install --upgrade pip' command.\n"
     ]
    },
    {
     "name": "stdout",
     "output_type": "stream",
     "text": [
      "Collecting pandas\n",
      "  Downloading https://files.pythonhosted.org/packages/dc/24/2e678c33e5d534d57583e47a373f8d0d1f7375a15b7dafe58ce920c7ab8b/pandas-1.2.2-cp38-cp38-win_amd64.whl (9.3MB)\n",
      "Collecting sklearn\n",
      "  Downloading https://files.pythonhosted.org/packages/1e/7a/dbb3be0ce9bd5c8b7e3d87328e79063f8b263b2b1bfa4774cb1147bfcd3f/sklearn-0.0.tar.gz\n",
      "Collecting numerapi\n",
      "  Downloading https://files.pythonhosted.org/packages/46/97/9139d36db3f93d7e39249bf72f92eae6d495ae0d191c5285e8ae50abb04d/numerapi-2.4.1-py3-none-any.whl\n",
      "Collecting pytz>=2017.3 (from pandas)\n",
      "  Downloading https://files.pythonhosted.org/packages/70/94/784178ca5dd892a98f113cdd923372024dc04b8d40abe77ca76b5fb90ca6/pytz-2021.1-py2.py3-none-any.whl (510kB)\n",
      "Requirement already satisfied: numpy>=1.16.5 in c:\\users\\utilizador\\appdata\\local\\programs\\python\\python38\\lib\\site-packages (from pandas) (1.19.5)\n",
      "Requirement already satisfied: python-dateutil>=2.7.3 in c:\\users\\utilizador\\appdata\\roaming\\python\\python38\\site-packages (from pandas) (2.8.1)\n",
      "Requirement already satisfied: scikit-learn in c:\\users\\utilizador\\appdata\\local\\programs\\python\\python38\\lib\\site-packages (from sklearn) (0.24.1)\n",
      "Collecting tqdm>=4.29.1 (from numerapi)\n",
      "  Downloading https://files.pythonhosted.org/packages/b3/db/dcda019790a8d989b8b0e7290f1c651a0aaef10bbe6af00032155e04858d/tqdm-4.56.2-py2.py3-none-any.whl (72kB)\n",
      "Collecting click>=7.0 (from numerapi)\n",
      "  Using cached https://files.pythonhosted.org/packages/d2/3d/fa76db83bf75c4f8d338c2fd15c8d33fdd7ad23a9b5e57eb6c5de26b430e/click-7.1.2-py2.py3-none-any.whl\n",
      "Requirement already satisfied: requests in c:\\users\\utilizador\\appdata\\local\\programs\\python\\python38\\lib\\site-packages (from numerapi) (2.25.1)\n",
      "Requirement already satisfied: six>=1.5 in c:\\users\\utilizador\\appdata\\roaming\\python\\python38\\site-packages (from python-dateutil>=2.7.3->pandas) (1.15.0)\n",
      "Requirement already satisfied: joblib>=0.11 in c:\\users\\utilizador\\appdata\\local\\programs\\python\\python38\\lib\\site-packages (from scikit-learn->sklearn) (1.0.1)\n",
      "Requirement already satisfied: scipy>=0.19.1 in c:\\users\\utilizador\\appdata\\local\\programs\\python\\python38\\lib\\site-packages (from scikit-learn->sklearn) (1.6.0)\n",
      "Requirement already satisfied: threadpoolctl>=2.0.0 in c:\\users\\utilizador\\appdata\\local\\programs\\python\\python38\\lib\\site-packages (from scikit-learn->sklearn) (2.1.0)\n",
      "Requirement already satisfied: idna<3,>=2.5 in c:\\users\\utilizador\\appdata\\local\\programs\\python\\python38\\lib\\site-packages (from requests->numerapi) (2.10)\n",
      "Requirement already satisfied: urllib3<1.27,>=1.21.1 in c:\\users\\utilizador\\appdata\\local\\programs\\python\\python38\\lib\\site-packages (from requests->numerapi) (1.26.3)\n",
      "Requirement already satisfied: chardet<5,>=3.0.2 in c:\\users\\utilizador\\appdata\\local\\programs\\python\\python38\\lib\\site-packages (from requests->numerapi) (4.0.0)\n",
      "Requirement already satisfied: certifi>=2017.4.17 in c:\\users\\utilizador\\appdata\\local\\programs\\python\\python38\\lib\\site-packages (from requests->numerapi) (2020.12.5)\n",
      "Building wheels for collected packages: sklearn\n",
      "  Building wheel for sklearn (setup.py): started\n",
      "  Building wheel for sklearn (setup.py): finished with status 'done'\n",
      "  Created wheel for sklearn: filename=sklearn-0.0-py2.py3-none-any.whl size=1316 sha256=5ba16cf3456d3dd36956ddd77750390b47e3d840aef035afb984add44881884a\n",
      "  Stored in directory: C:\\Users\\Utilizador\\AppData\\Local\\pip\\Cache\\wheels\\76\\03\\bb\\589d421d27431bcd2c6da284d5f2286c8e3b2ea3cf1594c074\n",
      "Successfully built sklearn\n",
      "Installing collected packages: pytz, pandas, sklearn, tqdm, click, numerapi\n",
      "Successfully installed click-7.1.2 numerapi-2.4.1 pandas-1.2.2 pytz-2021.1 sklearn-0.0 tqdm-4.56.2\n"
     ]
    },
    {
     "name": "stderr",
     "output_type": "stream",
     "text": [
      "WARNING: You are using pip version 19.2.3, however version 21.0.1 is available.\n",
      "You should consider upgrading via the 'python -m pip install --upgrade pip' command.\n"
     ]
    }
   ],
   "source": [
    "# install dependencies\n",
    "!pip install -U scikit-learn\n",
    "!pip install pandas sklearn numerapi"
   ]
  },
  {
   "cell_type": "code",
   "execution_count": null,
   "metadata": {
    "id": "MaNpcfNkKUg_"
   },
   "outputs": [],
   "source": [
    "# import dependencies\n",
    "import pandas as pd\n",
    "from sklearn import numerapi\n",
    "from sklearn.ensemble import RandomForestClassifier"
   ]
  },
  {
   "cell_type": "markdown",
   "metadata": {
    "id": "5uUN-aE_08kW"
   },
   "source": [
    "## 2. Download the datasets\n",
    "\n",
    "### Datasets \n",
    "*   `training_data` is used to train your model\n",
    "*   `tournament_data` is used to evaluate your model\n",
    "\n",
    "### Column descriptions\n",
    "*   id: a randomized id that corresponds to a stock \n",
    "*   era: a period of time\n",
    "*   data_type: either `train`, `validation`, `test`, or `live` \n",
    "*   feature_*: abstract financial features of the stock \n",
    "*   target: abstract measure of stock performance\n",
    "\n",
    "\n"
   ]
  },
  {
   "cell_type": "code",
   "execution_count": null,
   "metadata": {
    "collapsed": true,
    "id": "EyB8NsbUNNWR"
   },
   "outputs": [],
   "source": [
    "# download the latest training dataset (takes around 30s)\n",
    "training_data = pd.read_csv(\"https://numerai-public-datasets.s3-us-west-2.amazonaws.com/latest_numerai_training_data.csv.xz\")\n",
    "training_data.head()"
   ]
  },
  {
   "cell_type": "code",
   "execution_count": null,
   "metadata": {
    "collapsed": true,
    "id": "6GkhBurt73Fi"
   },
   "outputs": [],
   "source": [
    "# download the latest tournament dataset (takes around 30s)\n",
    "tournament_data = pd.read_csv(\"https://numerai-public-datasets.s3-us-west-2.amazonaws.com/latest_numerai_tournament_data.csv.xz\")\n",
    "tournament_data.head(20)"
   ]
  },
  {
   "cell_type": "markdown",
   "metadata": {
    "id": "c3Fcz-PpHYez"
   },
   "source": [
    "## 3. Train your first model\n",
    "Let's create a basic model using sklearn's linear regression."
   ]
  },
  {
   "cell_type": "code",
   "execution_count": null,
   "metadata": {
    "collapsed": true,
    "id": "ESazJMMzN--g"
   },
   "outputs": [],
   "source": [
    "# find only the feature columns\n",
    "feature_cols = training_data.columns[training_data.columns.str.startswith('feature')]"
   ]
  },
  {
   "cell_type": "code",
   "execution_count": null,
   "metadata": {
    "collapsed": true,
    "id": "5Bmbqi4YKY2Z"
   },
   "outputs": [],
   "source": [
    "# select those columns out of the training dataset\n",
    "training_features = training_data[feature_cols]"
   ]
  },
  {
   "cell_type": "code",
   "execution_count": null,
   "metadata": {
    "collapsed": true,
    "id": "2AuNXbVmRQDp"
   },
   "outputs": [],
   "source": [
    "# create a model and fit the training data (~30 sec to run)\n",
    "model = sklearn.RandomForestClassifier()\n",
    "model.fit(training_features, training_data.target)"
   ]
  },
  {
   "cell_type": "markdown",
   "metadata": {
    "id": "Uxx5pLIGIUvN"
   },
   "source": [
    "## 4. Generate your first predictions\n",
    "Now that we have a trained model, we can use it to make predictions on the tournament data.\n",
    "\n"
   ]
  },
  {
   "cell_type": "code",
   "execution_count": null,
   "metadata": {
    "collapsed": true,
    "id": "HIcmOiJYSmJI"
   },
   "outputs": [],
   "source": [
    "# select the feature columns from the tournament data\n",
    "live_features = tournament_data[feature_cols]"
   ]
  },
  {
   "cell_type": "code",
   "execution_count": null,
   "metadata": {
    "collapsed": true,
    "id": "t4CoaCgbKcSN"
   },
   "outputs": [],
   "source": [
    "# predict the target on the live features\n",
    "predictions = model.predict(live_features)"
   ]
  },
  {
   "cell_type": "code",
   "execution_count": null,
   "metadata": {
    "collapsed": true,
    "id": "4L4BFeAzTTDe"
   },
   "outputs": [],
   "source": [
    "# predictions must have an `id` column and a `prediction_kazutsugi` column\n",
    "predictions_df = tournament_data[\"id\"].to_frame()\n",
    "predictions_df[\"prediction_kazutsugi\"] = predictions\n",
    "predictions_df.head(10)"
   ]
  },
  {
   "cell_type": "markdown",
   "metadata": {
    "id": "AQ0sgtPiLDys"
   },
   "source": [
    "## 5. Make your first submission\n",
    "To enter the tournament, we must submit the predictions back to Numerai. We will use the `numerapi` library to do this."
   ]
  },
  {
   "cell_type": "code",
   "execution_count": null,
   "metadata": {
    "collapsed": true,
    "id": "rEfqpxcEWDdK"
   },
   "outputs": [],
   "source": [
    "# Get your API keys and model_id from https://numer.ai/submit\n",
    "public_id = \"VY2KGO4SOYB55KWLFDG4TMHSTUUFR7PR\"\n",
    "secret_key = \"SLMDPPJHX5ILB4YZI2IWQX7JRTQYMU4AUAKLEKKJVXCQDWYSCNP44XLZZGA774BJ\"\n",
    "model_id = \"22b1f26c-02d2-4ead-9e7d-a465d383827a\"\n",
    "napi = numerapi.NumerAPI(public_id=public_id, secret_key=secret_key)"
   ]
  },
  {
   "cell_type": "code",
   "execution_count": null,
   "metadata": {
    "collapsed": true,
    "id": "WeAIJHaoW3VU"
   },
   "outputs": [],
   "source": [
    "# Upload your predictions\n",
    "predictions_df.to_csv(\"predictions.csv\", index=False)\n",
    "submission_id = napi.upload_predictions(\"predictions.csv\", model_id=model_id)"
   ]
  },
  {
   "cell_type": "markdown",
   "metadata": {
    "id": "_Jc2NgEgQEKF"
   },
   "source": [
    "# Done 🚀\n",
    "Good job! You just made your first submission on Numerai!\n",
    "\n",
    "Head back over to https://numer.ai/submit to continue."
   ]
  }
 ],
 "metadata": {
  "colab": {
   "collapsed_sections": [],
   "name": "Making your first submission on Numerai",
   "private_outputs": true,
   "provenance": []
  },
  "kernelspec": {
   "display_name": "Python 3",
   "language": "python",
   "name": "python3"
  },
  "language_info": {
   "codemirror_mode": {
    "name": "ipython",
    "version": 3
   },
   "file_extension": ".py",
   "mimetype": "text/x-python",
   "name": "python",
   "nbconvert_exporter": "python",
   "pygments_lexer": "ipython3",
   "version": "3.6.3"
  }
 },
 "nbformat": 4,
 "nbformat_minor": 1
}
